{
 "cells": [
  {
   "cell_type": "code",
   "execution_count": 3,
   "metadata": {
    "collapsed": false
   },
   "outputs": [
    {
     "name": "stdout",
     "output_type": "stream",
     "text": [
      "Question 1: DNA Ligase\n"
     ]
    }
   ],
   "source": [
    "# Question 1 \n",
    "print(\"Question 1: DNA Ligase\")"
   ]
  },
  {
   "cell_type": "code",
   "execution_count": 4,
   "metadata": {
    "collapsed": false
   },
   "outputs": [
    {
     "name": "stdout",
     "output_type": "stream",
     "text": [
      "Question 2: 50\n"
     ]
    }
   ],
   "source": [
    "from code import HammingDistance\n",
    "res = HammingDistance('TGACCCGTTATGCTCGAGTTCGGTCAGAGCGTCATTGCGAGTAGTCGTTTGCTTTCTCAAACTCC','GAGCGATTAAGCGTGACAGCCCCAGGGAACCCACAAAACGTGATCGCAGTCCATCCGATCATACA')\n",
    "print(\"Question 2: \" + str(res))"
   ]
  },
  {
   "cell_type": "code",
   "execution_count": 10,
   "metadata": {
    "collapsed": false
   },
   "outputs": [
    {
     "name": "stdout",
     "output_type": "stream",
     "text": [
      "Question 3: 12\n"
     ]
    }
   ],
   "source": [
    "from code import FindMinimumSkew\n",
    "print(\"Question 3: \" + ' '.join(map(str, FindMinimumSkew('GATACACTTCCCGAGTAGGTACTG'))))"
   ]
  },
  {
   "cell_type": "code",
   "execution_count": 11,
   "metadata": {
    "collapsed": false
   },
   "outputs": [
    {
     "name": "stdout",
     "output_type": "stream",
     "text": [
      "Question 4: 13\n"
     ]
    }
   ],
   "source": [
    "from code import ApproximatePatternMatching\n",
    "res = len(ApproximatePatternMatching('TACGCATTACAAAGCACA', 'AA', 1))\n",
    "print(\"Question 4: \" + str(res))"
   ]
  },
  {
   "cell_type": "code",
   "execution_count": 12,
   "metadata": {
    "collapsed": false
   },
   "outputs": [
    {
     "name": "stdout",
     "output_type": "stream",
     "text": [
      "Question 5: 1048576\n"
     ]
    }
   ],
   "source": [
    "# 10-mer in a sequence of length 10 are all the combinations\n",
    "print(\"Question 5: \" + str(4**10))"
   ]
  },
  {
   "cell_type": "code",
   "execution_count": null,
   "metadata": {
    "collapsed": true
   },
   "outputs": [],
   "source": []
  }
 ],
 "metadata": {
  "kernelspec": {
   "display_name": "Python 3",
   "language": "python",
   "name": "python3"
  },
  "language_info": {
   "codemirror_mode": {
    "name": "ipython",
    "version": 3
   },
   "file_extension": ".py",
   "mimetype": "text/x-python",
   "name": "python",
   "nbconvert_exporter": "python",
   "pygments_lexer": "ipython3",
   "version": "3.6.0"
  }
 },
 "nbformat": 4,
 "nbformat_minor": 2
}

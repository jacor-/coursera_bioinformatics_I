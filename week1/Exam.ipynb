{
 "cells": [
  {
   "cell_type": "markdown",
   "metadata": {},
   "source": [
    "# Coursera exam 1"
   ]
  },
  {
   "cell_type": "code",
   "execution_count": 82,
   "metadata": {
    "collapsed": false
   },
   "outputs": [
    {
     "name": "stdout",
     "output_type": "stream",
     "text": [
      "5\n",
      "['AGG']\n",
      "AGCTAGC\n",
      "[0, 1, 12]\n"
     ]
    }
   ],
   "source": [
    "# Question 2\n",
    "from code import PatternCount\n",
    "print( PatternCount('CGCGATACGTTACATACATGATAGACCGCGCGCGATCATATCGCGATTATC', 'CGCG') )\n",
    "\n",
    "# Question 3\n",
    "from code import ReverseComplement\n",
    "print( FrequentWords('CGGAGGACTCTAGGTAACGCTTATCAGGTCCATAGGACATTCA', 3) )\n",
    "\n",
    "# Question 4\n",
    "from code import ReverseComplement\n",
    "print( ReverseComplement('GCTAGCT') )\n",
    "\n",
    "# Question 5\n",
    "from code import FindPattern\n",
    "print( FindPattern('AAACATAGGATCAAC', 'AA') )\n",
    "\n"
   ]
  },
  {
   "cell_type": "code",
   "execution_count": null,
   "metadata": {
    "collapsed": true
   },
   "outputs": [],
   "source": []
  }
 ],
 "metadata": {
  "kernelspec": {
   "display_name": "Python 3",
   "language": "python",
   "name": "python3"
  },
  "language_info": {
   "codemirror_mode": {
    "name": "ipython",
    "version": 3
   },
   "file_extension": ".py",
   "mimetype": "text/x-python",
   "name": "python",
   "nbconvert_exporter": "python",
   "pygments_lexer": "ipython3",
   "version": "3.6.0"
  }
 },
 "nbformat": 4,
 "nbformat_minor": 2
}
